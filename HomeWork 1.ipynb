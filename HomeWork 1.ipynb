{
 "cells": [
  {
   "cell_type": "code",
   "execution_count": 69,
   "metadata": {},
   "outputs": [],
   "source": [
    "import cv2\n",
    "import numpy as np\n",
    "import random as rd\n",
    "def nothing(x):\n",
    "    pass\n",
    "drawing = False # true if mouse is pressed\n",
    "ix,iy = -1,-1\n",
    "\n",
    "def draw_circle(event,x,y,flags,param):\n",
    "    global ix,iy,drawing,value,img\n",
    "    if event == cv2.EVENT_LBUTTONDOWN:\n",
    "        img = cv2.imread('image2.jpg',1)\n",
    "        drawing = True\n",
    "        ix,iy = x,y\n",
    "        font = cv2.FONT_HERSHEY_SIMPLEX\n",
    "        cv2.putText(img,'Mouse position ('+str(x)+','+str(y)+')',(10,40),font,1,(255,255,255),2,cv2.LINE_AA)\n",
    "    elif event == cv2.EVENT_MOUSEMOVE:\n",
    "        if drawing == True:\n",
    "            img[iy:y,ix:x,0]=value\n",
    "            img[iy:y,ix:x,1]=value\n",
    "    elif event == cv2.EVENT_LBUTTONUP:\n",
    "        drawing = False\n",
    "        font = cv2.FONT_HERSHEY_SIMPLEX\n",
    "        cv2.putText(img,'Mouse position ('+str(ix)+','+str(iy)+')'+' - ('+str(x)+','+str(y)+')',(10,40),font,1,(255,255,255),2,cv2.LINE_AA)\n",
    "\n",
    "\n",
    "img = cv2.imread('image2.jpg',1)\n",
    "cv2.namedWindow('image')\n",
    "cv2.setMouseCallback('image',draw_circle)\n",
    "cv2.createTrackbar('value','image',0,255,nothing)\n",
    "while(1):\n",
    "    cv2.imshow('image',img)\n",
    "    value = cv2.getTrackbarPos('value','image')\n",
    "    \n",
    "    if cv2.waitKey(20) & 0xFF == 27:\n",
    "        break\n",
    "cv2.destroyAllWindows()\n"
   ]
  },
  {
   "cell_type": "code",
   "execution_count": 22,
   "metadata": {},
   "outputs": [],
   "source": [
    "\"\"\"\n",
    "def draw_circle(event,x,y,flags,param):\n",
    "    global img\n",
    "    if event == cv2.EVENT_LBUTTONDBLCLK:\n",
    "        img = cv2.imread('image2.jpg',1)\n",
    "        #img[:50,:,:]=0#[:,:,?] 0:b,1:g,b,2:r   =0:blak, 255 색깔 \n",
    "        #img=np.zeros((512,512,3),np.uint8) 이미지 전체 리셋\n",
    "        cv2.circle(img,(x,y),30,(rd.randrange(0,255),rd.randrange(0,255),rd.randrange(0,255)),3)\n",
    "        font = cv2.FONT_HERSHEY_SIMPLEX\n",
    "        cv2.putText(img,'mouse-('+str(x)+','+str(y)+')',(10,40),font,1,(255,255,255),2,cv2.LINE_AA)\n",
    "\"\"\"\n",
    "\n",
    "        \n"
   ]
  },
  {
   "cell_type": "code",
   "execution_count": 32,
   "metadata": {},
   "outputs": [],
   "source": [
    "\n",
    "\n",
    "#img[:100,:,2]=255#[:,:,?] 0:b,1:g,b,2:r\n"
   ]
  }
 ],
 "metadata": {
  "kernelspec": {
   "display_name": "IP2023",
   "language": "python",
   "name": "python3"
  },
  "language_info": {
   "codemirror_mode": {
    "name": "ipython",
    "version": 3
   },
   "file_extension": ".py",
   "mimetype": "text/x-python",
   "name": "python",
   "nbconvert_exporter": "python",
   "pygments_lexer": "ipython3",
   "version": "3.8.17"
  },
  "orig_nbformat": 4
 },
 "nbformat": 4,
 "nbformat_minor": 2
}
