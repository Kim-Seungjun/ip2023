{
 "cells": [
  {
   "cell_type": "code",
   "execution_count": 25,
   "metadata": {},
   "outputs": [],
   "source": [
    "tu = (23, 'abc', 4.56, (2,3), 'def')\n",
    "li = [\"abc\", 34, 4.34, 23]\n",
    "st = \"Hello World\"\n",
    "tu1 = li[:]\n",
    "#st = 'Hello World'\n",
    "#st = \"\"\"This is a multi-line\n",
    "# string that uses triple quotes.\"\"\"\n",
    "li[1]=12"
   ]
  },
  {
   "cell_type": "code",
   "execution_count": 27,
   "metadata": {},
   "outputs": [
    {
     "name": "stdout",
     "output_type": "stream",
     "text": [
      "(4.56, (2, 3), 'def')\n",
      "12\n",
      "Hello\n",
      "['abc', 34, 4.34, 23]\n"
     ]
    }
   ],
   "source": [
    "print(tu[2:])\n",
    "print(li[1])\n",
    "print(st[0:5])\n",
    "print(tu1)"
   ]
  }
 ],
 "metadata": {
  "kernelspec": {
   "display_name": "IP2023",
   "language": "python",
   "name": "python3"
  },
  "language_info": {
   "codemirror_mode": {
    "name": "ipython",
    "version": 3
   },
   "file_extension": ".py",
   "mimetype": "text/x-python",
   "name": "python",
   "nbconvert_exporter": "python",
   "pygments_lexer": "ipython3",
   "version": "3.8.17"
  },
  "orig_nbformat": 4
 },
 "nbformat": 4,
 "nbformat_minor": 2
}
